{
 "cells": [
  {
   "cell_type": "code",
   "execution_count": 3,
   "id": "9538cb80",
   "metadata": {},
   "outputs": [
    {
     "data": {
      "text/plain": [
       "(tensor([[0.0000],\n",
       "         [0.0100],\n",
       "         [0.0200],\n",
       "         [0.0300],\n",
       "         [0.0400],\n",
       "         [0.0500],\n",
       "         [0.0600],\n",
       "         [0.0700],\n",
       "         [0.0800],\n",
       "         [0.0900]]),\n",
       " tensor([[0.9000],\n",
       "         [0.9030],\n",
       "         [0.9062],\n",
       "         [0.9094],\n",
       "         [0.9126],\n",
       "         [0.9160],\n",
       "         [0.9194],\n",
       "         [0.9230],\n",
       "         [0.9266],\n",
       "         [0.9302]]))"
      ]
     },
     "execution_count": 3,
     "metadata": {},
     "output_type": "execute_result"
    }
   ],
   "source": [
    "import torch\n",
    "# Create *known* parameters\n",
    "weight = [0.3,0.4]\n",
    "bias = 0.9\n",
    "\n",
    "# Create data\n",
    "start = 0\n",
    "end = 1\n",
    "step = 0.01\n",
    "X = torch.arange(start, end, step).unsqueeze(dim=1)\n",
    "y = weight[0] * X + weight[1]*X**2+ bias\n",
    "\n",
    "X[:10], y[:10]"
   ]
  },
  {
   "cell_type": "code",
   "execution_count": 4,
   "id": "e9e4b745",
   "metadata": {},
   "outputs": [],
   "source": [
    "X_train,Y_train = X[:80], y[:80]\n",
    "X_test,Y_test = X[80:101], y[80:101]"
   ]
  },
  {
   "cell_type": "code",
   "execution_count": 5,
   "id": "5cad48dc",
   "metadata": {},
   "outputs": [
    {
     "data": {
      "text/plain": [
       "[<matplotlib.lines.Line2D at 0x290238b7260>]"
      ]
     },
     "execution_count": 5,
     "metadata": {},
     "output_type": "execute_result"
    },
    {
     "data": {
      "image/png": "[encoded data removed]",
      "text/plain": [
       "<Figure size 640x480 with 1 Axes>"
      ]
     },
     "metadata": {},
     "output_type": "display_data"
    }
   ],
   "source": [
    "import matplotlib.pyplot as plt\n",
    "\n",
    "plt.plot(X_train,Y_train)"
   ]
  },
  {
   "cell_type": "code",
   "execution_count": 22,
   "id": "7d8d9223",
   "metadata": {},
   "outputs": [
    {
     "name": "stdout",
     "output_type": "stream",
     "text": [
      "Model parameters (state_dict):\n",
      "OrderedDict({'weight': tensor([-0.0526,  0.6970]), 'bias': tensor([-0.0802])})\n",
      "\n",
      "Weight[0]: -0.05255282297730446\n",
      "\n",
      "Weight[1]: 0.6969926953315735\n",
      "Bias: -0.08017312735319138\n"
     ]
    }
   ],
   "source": [
    "from torch import nn\n",
    "\n",
    "# Option 1 - subclass torch.nn.Module\n",
    "class LinearRegressionModel(nn.Module):\n",
    "    def __init__(self):\n",
    "        super(LinearRegressionModel, self).__init__()\n",
    "        # Use nn.Linear() for creating the model parameters\n",
    "        self.weight = nn.Parameter(torch.randn(2, requires_grad=True))\n",
    "        self.bias = nn.Parameter(torch.randn(1, requires_grad=True))\n",
    "        \n",
    "\n",
    "  \n",
    "    # Define the forward computation (input data x flows through nn.Linear())\n",
    "    def forward(self, x: torch.Tensor) -> torch.Tensor:\n",
    "        return self.weight[0] * x + self.weight[1] * x**2 + self.bias\n",
    "\n",
    "# Step 2: Create an instance of the model\n",
    "model = LinearRegressionModel()\n",
    "\n",
    "# Step 3: Inspect model parameters\n",
    "print(\"Model parameters (state_dict):\")\n",
    "print(model.state_dict())\n",
    "\n",
    "# Optional: check parameter values directly\n",
    "print(\"\\nWeight[0]:\", model.weight[0].item())\n",
    "print(\"\\nWeight[1]:\", model.weight[1].item())\n",
    "print(\"Bias:\", model.bias.item())"
   ]
  },
  {
   "cell_type": "code",
   "execution_count": 23,
   "id": "4235d98e",
   "metadata": {},
   "outputs": [
    {
     "name": "stdout",
     "output_type": "stream",
     "text": [
      "Model parameters:\n",
      "weight: tensor([-0.0526,  0.6970])\n",
      "bias: tensor([-0.0802])\n",
      "\n",
      "Loss function: L1Loss()\n",
      "Optimizer: SGD (\n",
      "Parameter Group 0\n",
      "    dampening: 0\n",
      "    differentiable: False\n",
      "    foreach: None\n",
      "    fused: None\n",
      "    lr: 0.01\n",
      "    maximize: False\n",
      "    momentum: 0\n",
      "    nesterov: False\n",
      "    weight_decay: 0\n",
      ")\n"
     ]
    }
   ],
   "source": [
    "# Step 3\n",
    "criterion = nn.L1Loss()  # L1 loss (|y_pred - y_true|)\n",
    "\n",
    "# Step 4: Define the optimizer (Stochastic Gradient Descent)\n",
    "optimizer = torch.optim.SGD(model.parameters(), lr=0.01)\n",
    "\n",
    "# Step 5: Inspect\n",
    "print(\"Model parameters:\")\n",
    "for name, param in model.named_parameters():\n",
    "    print(f\"{name}: {param.data}\")\n",
    "\n",
    "print(\"\\nLoss function:\", criterion)\n",
    "print(\"Optimizer:\", optimizer)"
   ]
  },
  {
   "cell_type": "code",
   "execution_count": 29,
   "id": "701e9636",
   "metadata": {},
   "outputs": [
    {
     "name": "stdout",
     "output_type": "stream",
     "text": [
      "Epoch [20/800], Loss: 0.0059, w1=0.179,w2=0.544, b=0.920\n",
      "Epoch [40/800], Loss: 0.0057, w1=0.183,w2=0.540, b=0.919\n",
      "Epoch [60/800], Loss: 0.0055, w1=0.187,w2=0.535, b=0.918\n",
      "Epoch [80/800], Loss: 0.0053, w1=0.191,w2=0.530, b=0.918\n",
      "Epoch [100/800], Loss: 0.0051, w1=0.195,w2=0.526, b=0.917\n",
      "Epoch [120/800], Loss: 0.0049, w1=0.199,w2=0.521, b=0.916\n",
      "Epoch [140/800], Loss: 0.0047, w1=0.203,w2=0.516, b=0.916\n",
      "Epoch [160/800], Loss: 0.0045, w1=0.207,w2=0.511, b=0.915\n",
      "Epoch [180/800], Loss: 0.0043, w1=0.211,w2=0.507, b=0.914\n",
      "Epoch [200/800], Loss: 0.0041, w1=0.215,w2=0.502, b=0.914\n",
      "Epoch [220/800], Loss: 0.0040, w1=0.219,w2=0.497, b=0.913\n",
      "Epoch [240/800], Loss: 0.0038, w1=0.223,w2=0.493, b=0.912\n",
      "Epoch [260/800], Loss: 0.0036, w1=0.227,w2=0.488, b=0.912\n",
      "Epoch [280/800], Loss: 0.0034, w1=0.231,w2=0.483, b=0.911\n",
      "Epoch [300/800], Loss: 0.0032, w1=0.235,w2=0.478, b=0.911\n",
      "Epoch [320/800], Loss: 0.0030, w1=0.239,w2=0.474, b=0.910\n",
      "Epoch [340/800], Loss: 0.0029, w1=0.243,w2=0.469, b=0.910\n",
      "Epoch [360/800], Loss: 0.0078, w1=0.247,w2=0.469, b=0.910\n",
      "Epoch [380/800], Loss: 0.0081, w1=0.248,w2=0.470, b=0.910\n",
      "Epoch [400/800], Loss: 0.0081, w1=0.248,w2=0.470, b=0.910\n",
      "Epoch [420/800], Loss: 0.0081, w1=0.248,w2=0.470, b=0.910\n",
      "Epoch [440/800], Loss: 0.0081, w1=0.248,w2=0.470, b=0.910\n",
      "Epoch [460/800], Loss: 0.0081, w1=0.248,w2=0.470, b=0.910\n",
      "Epoch [480/800], Loss: 0.0081, w1=0.248,w2=0.470, b=0.910\n",
      "Epoch [500/800], Loss: 0.0081, w1=0.248,w2=0.470, b=0.910\n",
      "Epoch [520/800], Loss: 0.0081, w1=0.248,w2=0.470, b=0.910\n",
      "Epoch [540/800], Loss: 0.0081, w1=0.248,w2=0.470, b=0.910\n",
      "Epoch [560/800], Loss: 0.0081, w1=0.248,w2=0.470, b=0.910\n",
      "Epoch [580/800], Loss: 0.0081, w1=0.248,w2=0.470, b=0.910\n",
      "Epoch [600/800], Loss: 0.0081, w1=0.248,w2=0.470, b=0.910\n",
      "Epoch [620/800], Loss: 0.0081, w1=0.248,w2=0.470, b=0.910\n",
      "Epoch [640/800], Loss: 0.0081, w1=0.248,w2=0.470, b=0.910\n",
      "Epoch [660/800], Loss: 0.0081, w1=0.248,w2=0.470, b=0.910\n",
      "Epoch [680/800], Loss: 0.0081, w1=0.248,w2=0.470, b=0.910\n",
      "Epoch [700/800], Loss: 0.0081, w1=0.248,w2=0.470, b=0.910\n",
      "Epoch [720/800], Loss: 0.0081, w1=0.248,w2=0.470, b=0.910\n",
      "Epoch [740/800], Loss: 0.0081, w1=0.248,w2=0.470, b=0.910\n",
      "Epoch [760/800], Loss: 0.0081, w1=0.248,w2=0.470, b=0.910\n",
      "Epoch [780/800], Loss: 0.0081, w1=0.248,w2=0.470, b=0.910\n",
      "Epoch [800/800], Loss: 0.0081, w1=0.248,w2=0.470, b=0.910\n"
     ]
    }
   ],
   "source": [
    "epochs = 800\n",
    "# optimizer = torch.optim.SGD(model.parameters(), lr=0.01)\n",
    "\n",
    "for epoch in range(epochs):\n",
    "    \n",
    "    y_pred = model(X_train)\n",
    "    loss_ = criterion(Y_train,y_pred)\n",
    "    \n",
    "    optimizer.zero_grad()\n",
    "    \n",
    "    loss_.backward() \n",
    "    optimizer.step() \n",
    "    \n",
    "    # Print progress\n",
    "    if (epoch + 1) % 20 == 0:\n",
    "        w1, w2, b = model.weight[0].item(),model.weight[1].item(), model.bias.item()\n",
    "        print(f\"Epoch [{epoch+1}/{epochs}], Loss: {loss_.item():.4f}, w1={w1:.3f},w2={w2:.3f}, b={b:.3f}\")"
   ]
  },
  {
   "cell_type": "code",
   "execution_count": 26,
   "id": "0d418876",
   "metadata": {},
   "outputs": [
    {
     "data": {
      "text/plain": [
       "LinearRegressionModel()"
      ]
     },
     "execution_count": 26,
     "metadata": {},
     "output_type": "execute_result"
    }
   ],
   "source": [
    "model"
   ]
  }
 ],
 "metadata": {
  "kernelspec": {
   "display_name": "Python 3",
   "language": "python",
   "name": "python3"
  },
  "language_info": {
   "codemirror_mode": {
    "name": "ipython",
    "version": 3
   },
   "file_extension": ".py",
   "mimetype": "text/x-python",
   "name": "python",
   "nbconvert_exporter": "python",
   "pygments_lexer": "ipython3",
   "version": "3.12.4"
  }
 },
 "nbformat": 4,
 "nbformat_minor": 5
}
