{
 "cells": [
  {
   "cell_type": "code",
   "execution_count": null,
   "id": "9a12e8b6",
   "metadata": {},
   "outputs": [],
   "source": [
    "import torch\n",
    "import matplotlib.pyplot as plt\n",
    "\n",
    "\n",
    "class ParameterEstimator:\n",
    "    def __init__(self, model_func, param_init, optimizer_cls=torch.optim.Adam, lr=0.01, loss_fn=None):\n",
    "        \"\"\"\n",
    "        Generalized parameter estimation using PyTorch.\n",
    "        \n",
    "        Args:\n",
    "            model_func: Callable model f(x, *params)\n",
    "            param_init: List or dict of initial parameter guesses\n",
    "            optimizer_cls: PyTorch optimizer class (default Adam)\n",
    "            lr: Learning rate\n",
    "            loss_fn: Custom loss function (default MSE)\n",
    "        \"\"\"\n",
    "        self.model_func = model_func\n",
    "        self.params = self._init_params(param_init)\n",
    "        self.optimizer = optimizer_cls(self.params.values(), lr=lr)\n",
    "        self.loss_fn = loss_fn if loss_fn else torch.nn.MSELoss()\n",
    "\n",
    "    def _init_params(self, param_init):\n",
    "        if isinstance(param_init, dict):\n",
    "            return {name: torch.tensor(val, requires_grad=True, dtype=torch.float32)\n",
    "                    for name, val in param_init.items()}\n",
    "        elif isinstance(param_init, (list, tuple)):\n",
    "            return {f\"p{i}\": torch.tensor(val, requires_grad=True, dtype=torch.float32)\n",
    "                    for i, val in enumerate(param_init)}\n",
    "        else:\n",
    "            raise ValueError(\"param_init must be a list or dict\")\n",
    "\n",
    "    def fit(self, x_data, y_data, epochs=1000, verbose=True):\n",
    "        for epoch in range(epochs):\n",
    "            self.optimizer.zero_grad()\n",
    "            y_pred = self.model_func(x_data, **self.params)\n",
    "            loss = self.loss_fn(y_pred, y_data)\n",
    "            loss.backward()\n",
    "            self.optimizer.step()\n",
    "\n",
    "            if verbose and epoch % (epochs // 10) == 0:\n",
    "                loss_val = loss.item()\n",
    "                param_str = \", \".join(f\"{k}={v.item():.4f}\" for k, v in self.params.items())\n",
    "                print(f\"Epoch {epoch:4d} | Loss={loss_val:.6f} | {param_str}\")\n",
    "\n",
    "        return {k: v.item() for k, v in self.params.items()}\n"
   ]
  },
  {
   "cell_type": "code",
   "execution_count": 6,
   "id": "e9296a78",
   "metadata": {},
   "outputs": [],
   "source": [
    "# ---------- SINGLE-PARAMETER KINETIC MODELS ----------\n",
    "\n",
    "def zero_order_single(t, k, C0=1.0):\n",
    "    \"\"\"Zero-order (C0 known)\"\"\"\n",
    "    return C0 - k * t\n",
    "\n",
    "def first_order_single(t, k, C0=1.0):\n",
    "    \"\"\"First-order (C0 known)\"\"\"\n",
    "    return C0 * torch.exp(-k * t)\n",
    "\n",
    "def second_order_single(t, k, C0=1.0):\n",
    "    \"\"\"Second-order (C0 known)\"\"\"\n",
    "    return 1 / (1/C0 + k * t)\n",
    "\n",
    "def arrhenius_single(T, Ea, A=1e5):\n",
    "    \"\"\"Arrhenius (A known)\"\"\"\n",
    "    R = 8.314\n",
    "    return A * torch.exp(-Ea / (R * T))\n",
    "\n",
    "def pseudo_first_order_single(t, k1, qe=1.0):\n",
    "    \"\"\"Pseudo-first-order adsorption (qe known)\"\"\"\n",
    "    return qe * (1 - torch.exp(-k1 * t))\n",
    "\n",
    "def newton_drying_single(t, k, M0=1.0, Me=0.1):\n",
    "    \"\"\"Newton drying model (M0, Me known)\"\"\"\n",
    "    return Me + (M0 - Me) * torch.exp(-k * t)\n"
   ]
  },
  {
   "cell_type": "code",
   "execution_count": 8,
   "id": "1dcbc24b",
   "metadata": {},
   "outputs": [
    {
     "name": "stdout",
     "output_type": "stream",
     "text": [
      "Epoch    0 | Loss=0.345631 | k=0.1500, C0=0.1500\n",
      "Epoch   50 | Loss=0.001274 | k=0.3140, C0=1.0735\n",
      "Epoch  100 | Loss=0.000745 | k=0.2862, C0=1.0171\n",
      "Epoch  150 | Loss=0.000738 | k=0.2899, C0=1.0222\n",
      "Epoch  200 | Loss=0.000738 | k=0.2900, C0=1.0221\n",
      "Epoch  250 | Loss=0.000738 | k=0.2900, C0=1.0220\n",
      "Epoch  300 | Loss=0.000738 | k=0.2900, C0=1.0220\n",
      "Epoch  350 | Loss=0.000738 | k=0.2900, C0=1.0220\n",
      "Epoch  400 | Loss=0.000738 | k=0.2900, C0=1.0220\n",
      "Epoch  450 | Loss=0.000738 | k=0.2900, C0=1.0220\n",
      "Estimated Parameters: {'k': 0.2899823784828186, 'C0': 1.0220227241516113}\n"
     ]
    },
    {
     "data": {
      "image/png": "[encoded data removed]",
      "text/plain": [
       "<Figure size 640x480 with 1 Axes>"
      ]
     },
     "metadata": {},
     "output_type": "display_data"
    }
   ],
   "source": [
    "\n",
    "# Experimental data\n",
    "t_data = torch.tensor([0, 1, 2, 3, 4, 5])\n",
    "C_data = torch.tensor([1.0, 0.82, 0.67, 0.55, 0.45, 0.37])\n",
    "\n",
    "\n",
    "\n",
    "# # model\n",
    "# def first_order_model(t, k):\n",
    "#     return torch.exp(-k * t)\n",
    "\n",
    "model = second_order_single\n",
    "parameter = {\"k\": 0.2,\"C0\":0.1}\n",
    "\n",
    "\n",
    "# Create estimator\n",
    "estimator = ParameterEstimator(\n",
    "    model_func=model,\n",
    "    param_init= parameter,\n",
    "    lr=0.05\n",
    ")\n",
    "\n",
    "# Fit\n",
    "params = estimator.fit(t_data, C_data, epochs=500)\n",
    "print(\"Estimated Parameters:\", params)\n",
    "\n",
    "\n",
    "# Plot\n",
    "with torch.no_grad():\n",
    "    plt.scatter(t_data, C_data, label=\"Experimental\")\n",
    "    plt.plot(t_data, model(t_data, **{k: torch.tensor(v) for k, v in params.items()}), label=\"Model Fit\")\n",
    "    plt.legend()\n",
    "    plt.show()"
   ]
  }
 ],
 "metadata": {
  "kernelspec": {
   "display_name": "Python 3",
   "language": "python",
   "name": "python3"
  },
  "language_info": {
   "codemirror_mode": {
    "name": "ipython",
    "version": 3
   },
   "file_extension": ".py",
   "mimetype": "text/x-python",
   "name": "python",
   "nbconvert_exporter": "python",
   "pygments_lexer": "ipython3",
   "version": "3.12.4"
  }
 },
 "nbformat": 4,
 "nbformat_minor": 5
}
